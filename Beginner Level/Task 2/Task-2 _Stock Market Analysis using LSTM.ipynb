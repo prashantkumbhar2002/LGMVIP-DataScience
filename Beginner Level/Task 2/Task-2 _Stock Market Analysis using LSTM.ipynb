{
 "cells": [
  {
   "cell_type": "markdown",
   "id": "0c798232",
   "metadata": {},
   "source": [
    "### Task-2 : Stock Market Analysis using LSTM\n",
    "#### LGMVIP \n",
    "#### Prashant Kumbhar\n",
    "\n",
    "Dataset Link: https://raw.githubusercontent.com/mwitiderrick/stockprice/master/NSE-TATAGLOBAL.csv"
   ]
  },
  {
   "cell_type": "code",
   "execution_count": 1,
   "id": "1fd4d962",
   "metadata": {},
   "outputs": [],
   "source": [
    "#Importing Libraries\n",
    "import os\n",
    "import numpy as np\n",
    "import pandas as pd\n",
    "import matplotlib.pyplot as plt\n",
    "%matplotlib inline"
   ]
  },
  {
   "cell_type": "code",
   "execution_count": 2,
   "id": "7a1b254c",
   "metadata": {},
   "outputs": [],
   "source": [
    "dataset=pd.read_csv(\"https://raw.githubusercontent.com/mwitiderrick/stockprice/master/NSE-TATAGLOBAL.csv\")\n",
    "dataset=dataset.loc[::-1]"
   ]
  },
  {
   "cell_type": "code",
   "execution_count": 3,
   "id": "47ab723f",
   "metadata": {},
   "outputs": [
    {
     "data": {
      "text/html": [
       "<div>\n",
       "<style scoped>\n",
       "    .dataframe tbody tr th:only-of-type {\n",
       "        vertical-align: middle;\n",
       "    }\n",
       "\n",
       "    .dataframe tbody tr th {\n",
       "        vertical-align: top;\n",
       "    }\n",
       "\n",
       "    .dataframe thead th {\n",
       "        text-align: right;\n",
       "    }\n",
       "</style>\n",
       "<table border=\"1\" class=\"dataframe\">\n",
       "  <thead>\n",
       "    <tr style=\"text-align: right;\">\n",
       "      <th></th>\n",
       "      <th>Date</th>\n",
       "      <th>Open</th>\n",
       "      <th>High</th>\n",
       "      <th>Low</th>\n",
       "      <th>Last</th>\n",
       "      <th>Close</th>\n",
       "      <th>Total Trade Quantity</th>\n",
       "      <th>Turnover (Lacs)</th>\n",
       "    </tr>\n",
       "  </thead>\n",
       "  <tbody>\n",
       "    <tr>\n",
       "      <th>2034</th>\n",
       "      <td>2010-07-21</td>\n",
       "      <td>122.1</td>\n",
       "      <td>123.00</td>\n",
       "      <td>121.05</td>\n",
       "      <td>121.10</td>\n",
       "      <td>121.55</td>\n",
       "      <td>658666</td>\n",
       "      <td>803.56</td>\n",
       "    </tr>\n",
       "    <tr>\n",
       "      <th>2033</th>\n",
       "      <td>2010-07-22</td>\n",
       "      <td>120.3</td>\n",
       "      <td>122.00</td>\n",
       "      <td>120.25</td>\n",
       "      <td>120.75</td>\n",
       "      <td>120.90</td>\n",
       "      <td>293312</td>\n",
       "      <td>355.17</td>\n",
       "    </tr>\n",
       "    <tr>\n",
       "      <th>2032</th>\n",
       "      <td>2010-07-23</td>\n",
       "      <td>121.8</td>\n",
       "      <td>121.95</td>\n",
       "      <td>120.25</td>\n",
       "      <td>120.35</td>\n",
       "      <td>120.65</td>\n",
       "      <td>281312</td>\n",
       "      <td>340.31</td>\n",
       "    </tr>\n",
       "    <tr>\n",
       "      <th>2031</th>\n",
       "      <td>2010-07-26</td>\n",
       "      <td>120.1</td>\n",
       "      <td>121.00</td>\n",
       "      <td>117.10</td>\n",
       "      <td>117.10</td>\n",
       "      <td>117.60</td>\n",
       "      <td>658440</td>\n",
       "      <td>780.01</td>\n",
       "    </tr>\n",
       "    <tr>\n",
       "      <th>2030</th>\n",
       "      <td>2010-07-27</td>\n",
       "      <td>117.6</td>\n",
       "      <td>119.50</td>\n",
       "      <td>112.00</td>\n",
       "      <td>118.80</td>\n",
       "      <td>118.65</td>\n",
       "      <td>586100</td>\n",
       "      <td>694.98</td>\n",
       "    </tr>\n",
       "  </tbody>\n",
       "</table>\n",
       "</div>"
      ],
      "text/plain": [
       "            Date   Open    High     Low    Last   Close  Total Trade Quantity  \\\n",
       "2034  2010-07-21  122.1  123.00  121.05  121.10  121.55                658666   \n",
       "2033  2010-07-22  120.3  122.00  120.25  120.75  120.90                293312   \n",
       "2032  2010-07-23  121.8  121.95  120.25  120.35  120.65                281312   \n",
       "2031  2010-07-26  120.1  121.00  117.10  117.10  117.60                658440   \n",
       "2030  2010-07-27  117.6  119.50  112.00  118.80  118.65                586100   \n",
       "\n",
       "      Turnover (Lacs)  \n",
       "2034           803.56  \n",
       "2033           355.17  \n",
       "2032           340.31  \n",
       "2031           780.01  \n",
       "2030           694.98  "
      ]
     },
     "execution_count": 3,
     "metadata": {},
     "output_type": "execute_result"
    }
   ],
   "source": [
    "dataset.head()"
   ]
  },
  {
   "cell_type": "markdown",
   "id": "bd684ce7",
   "metadata": {},
   "source": [
    "##### Training Dataset"
   ]
  },
  {
   "cell_type": "code",
   "execution_count": 4,
   "id": "ea0742b3",
   "metadata": {},
   "outputs": [
    {
     "name": "stdout",
     "output_type": "stream",
     "text": [
      "[[122.1 ]\n",
      " [120.3 ]\n",
      " [121.8 ]\n",
      " ...\n",
      " [240.  ]\n",
      " [234.55]\n",
      " [234.05]]\n"
     ]
    }
   ],
   "source": [
    "train_set=dataset.iloc[:,1:2].values\n",
    "print(train_set)"
   ]
  },
  {
   "cell_type": "code",
   "execution_count": 6,
   "id": "d63d0502",
   "metadata": {},
   "outputs": [
    {
     "data": {
      "text/plain": [
       "(2035, 1)"
      ]
     },
     "execution_count": 6,
     "metadata": {},
     "output_type": "execute_result"
    }
   ],
   "source": [
    "train_set.shape"
   ]
  },
  {
   "cell_type": "markdown",
   "id": "4aed0bcf",
   "metadata": {},
   "source": [
    "#### Normalizing dataset\n"
   ]
  },
  {
   "cell_type": "code",
   "execution_count": 7,
   "id": "0ac582ab",
   "metadata": {},
   "outputs": [
    {
     "data": {
      "text/plain": [
       "array([[0.16626115],\n",
       "       [0.15896188],\n",
       "       [0.16504461],\n",
       "       ...,\n",
       "       [0.64436334],\n",
       "       [0.62226277],\n",
       "       [0.6202352 ]])"
      ]
     },
     "execution_count": 7,
     "metadata": {},
     "output_type": "execute_result"
    }
   ],
   "source": [
    "from sklearn.preprocessing import MinMaxScaler\n",
    "scaler=MinMaxScaler(feature_range=(0,1))\n",
    "scaled_training_set=scaler.fit_transform(train_set)\n",
    "scaled_training_set\n"
   ]
  },
  {
   "cell_type": "code",
   "execution_count": 9,
   "id": "a22713f8",
   "metadata": {},
   "outputs": [
    {
     "data": {
      "text/plain": [
       "Date                    0\n",
       "Open                    0\n",
       "High                    0\n",
       "Low                     0\n",
       "Last                    0\n",
       "Close                   0\n",
       "Total Trade Quantity    0\n",
       "Turnover (Lacs)         0\n",
       "dtype: int64"
      ]
     },
     "execution_count": 9,
     "metadata": {},
     "output_type": "execute_result"
    }
   ],
   "source": [
    "dataset.isnull().sum()"
   ]
  },
  {
   "cell_type": "code",
   "execution_count": 11,
   "id": "3bf2b569",
   "metadata": {},
   "outputs": [
    {
     "data": {
      "image/png": "[encoded data removed]",
      "text/plain": [
       "<Figure size 432x288 with 1 Axes>"
      ]
     },
     "metadata": {
      "needs_background": "light"
     },
     "output_type": "display_data"
    }
   ],
   "source": [
    "ds_high = dataset.reset_index()['High'] #reset the index back to the default 0, 1, 2 etc\n",
    "plt.plot(ds_high)\n",
    "plt.show()"
   ]
  },
  {
   "cell_type": "code",
   "execution_count": 12,
   "id": "a73afd2b",
   "metadata": {},
   "outputs": [],
   "source": [
    "from sklearn.preprocessing import MinMaxScaler\n",
    "from sklearn.metrics import mean_squared_error\n",
    "\n",
    "sc = MinMaxScaler(feature_range= (0,1))\n",
    "ds_high = sc.fit_transform(np.array(ds_high).reshape(-1,1))"
   ]
  },
  {
   "cell_type": "code",
   "execution_count": 13,
   "id": "5f88e5c7",
   "metadata": {},
   "outputs": [],
   "source": [
    "train_size = int(len(ds_high)*0.75)\n",
    "test_size = len(ds_high)-train_size"
   ]
  },
  {
   "cell_type": "code",
   "execution_count": 17,
   "id": "9cafda20",
   "metadata": {},
   "outputs": [],
   "source": [
    "train_data = ds_high[0:train_size,:]\n",
    "test_data = ds_high[train_size:len(ds_high),:1]"
   ]
  },
  {
   "cell_type": "code",
   "execution_count": 18,
   "id": "958b3b2e",
   "metadata": {},
   "outputs": [],
   "source": [
    "def create_dataset(dataset, time_step = 1):\n",
    "    dataX, dataY = [], []\n",
    "    for i in range(len(dataset) - time_step - 1):\n",
    "        a = dataset[i:(i+time_step), 0]\n",
    "        dataX.append(a)\n",
    "        dataY.append(dataset[i+time_step, 0])\n",
    "    return np.array(dataX), np.array(dataY)"
   ]
  },
  {
   "cell_type": "code",
   "execution_count": 19,
   "id": "4a2bb08d",
   "metadata": {},
   "outputs": [],
   "source": [
    "time_step = 100\n",
    "x_train, y_train = create_dataset(train_data, time_step)\n",
    "x_test, y_test = create_dataset(test_data, time_step)"
   ]
  },
  {
   "cell_type": "code",
   "execution_count": 20,
   "id": "2b24d397",
   "metadata": {},
   "outputs": [
    {
     "name": "stdout",
     "output_type": "stream",
     "text": [
      "X train shape: (1425, 100, 1)\n",
      "y train shape: (1425,)\n",
      "X test shape: (408, 100, 1)\n",
      "y test shape: (408,)\n"
     ]
    }
   ],
   "source": [
    "x_train = x_train.reshape(x_train.shape[0],x_train.shape[1],1)\n",
    "x_test = x_test.reshape(x_test.shape[0],x_test.shape[1],1)\n",
    "\n",
    "print(\"X train shape:\",x_train.shape)\n",
    "print(\"y train shape:\",y_train.shape)\n",
    "\n",
    "print(\"X test shape:\",x_test.shape)\n",
    "print(\"y test shape:\",y_test.shape)"
   ]
  },
  {
   "cell_type": "markdown",
   "id": "43dae8fd",
   "metadata": {},
   "source": [
    "   ### Creating the LSTM model"
   ]
  },
  {
   "cell_type": "code",
   "execution_count": 21,
   "id": "47d211ac",
   "metadata": {},
   "outputs": [],
   "source": [
    "from tensorflow.python.keras.models import Sequential\n",
    "from tensorflow.python.keras.layers import Dense,LSTM\n",
    "\n",
    "lstm = Sequential()\n",
    "lstm.add(LSTM(50, return_sequences = True,input_shape = (100,1)))\n",
    "lstm.add(LSTM(50,return_sequences = True))\n",
    "lstm.add(LSTM(50))\n",
    "\n",
    "lstm.add(Dense(1))\n",
    "lstm.compile(loss = \"mean_squared_error\",optimizer = \"adam\")"
   ]
  },
  {
   "cell_type": "code",
   "execution_count": 22,
   "id": "4b4c6a66",
   "metadata": {},
   "outputs": [
    {
     "name": "stdout",
     "output_type": "stream",
     "text": [
      "Model: \"sequential\"\n",
      "_________________________________________________________________\n",
      "Layer (type)                 Output Shape              Param #   \n",
      "=================================================================\n",
      "lstm (LSTM)                  (None, 100, 50)           10400     \n",
      "_________________________________________________________________\n",
      "lstm_1 (LSTM)                (None, 100, 50)           20200     \n",
      "_________________________________________________________________\n",
      "lstm_2 (LSTM)                (None, 50)                20200     \n",
      "_________________________________________________________________\n",
      "dense (Dense)                (None, 1)                 51        \n",
      "=================================================================\n",
      "Total params: 50,851\n",
      "Trainable params: 50,851\n",
      "Non-trainable params: 0\n",
      "_________________________________________________________________\n"
     ]
    }
   ],
   "source": [
    "lstm.summary()"
   ]
  },
  {
   "cell_type": "code",
   "execution_count": 23,
   "id": "03ea69d5",
   "metadata": {},
   "outputs": [
    {
     "name": "stdout",
     "output_type": "stream",
     "text": [
      "Epoch 1/100\n",
      "23/23 [==============================] - 12s 250ms/step - loss: 0.0099 - val_loss: 0.0261\n",
      "Epoch 2/100\n",
      "23/23 [==============================] - 5s 210ms/step - loss: 0.0019 - val_loss: 0.0092\n",
      "Epoch 3/100\n",
      "23/23 [==============================] - 5s 211ms/step - loss: 8.7398e-04 - val_loss: 0.0033\n",
      "Epoch 4/100\n",
      "23/23 [==============================] - 5s 214ms/step - loss: 8.0327e-04 - val_loss: 0.0033\n",
      "Epoch 5/100\n",
      "23/23 [==============================] - 5s 210ms/step - loss: 7.4909e-04 - val_loss: 0.0039\n",
      "Epoch 6/100\n",
      "23/23 [==============================] - 5s 218ms/step - loss: 7.1785e-04 - val_loss: 0.0036\n",
      "Epoch 7/100\n",
      "23/23 [==============================] - 5s 220ms/step - loss: 6.9350e-04 - val_loss: 0.0026\n",
      "Epoch 8/100\n",
      "23/23 [==============================] - 5s 220ms/step - loss: 6.8417e-04 - val_loss: 0.0050\n",
      "Epoch 9/100\n",
      "23/23 [==============================] - 5s 215ms/step - loss: 6.8752e-04 - val_loss: 0.0031\n",
      "Epoch 10/100\n",
      "23/23 [==============================] - 5s 218ms/step - loss: 6.2570e-04 - val_loss: 0.0025\n",
      "Epoch 11/100\n",
      "23/23 [==============================] - 5s 226ms/step - loss: 6.3566e-04 - val_loss: 0.0065\n",
      "Epoch 12/100\n",
      "23/23 [==============================] - 5s 221ms/step - loss: 6.0101e-04 - val_loss: 0.0040\n",
      "Epoch 13/100\n",
      "23/23 [==============================] - 5s 220ms/step - loss: 5.4702e-04 - val_loss: 0.0038\n",
      "Epoch 14/100\n",
      "23/23 [==============================] - 5s 222ms/step - loss: 5.7675e-04 - val_loss: 0.0033\n",
      "Epoch 15/100\n",
      "23/23 [==============================] - 5s 218ms/step - loss: 5.4244e-04 - val_loss: 0.0069\n",
      "Epoch 16/100\n",
      "23/23 [==============================] - 5s 220ms/step - loss: 5.0150e-04 - val_loss: 0.0051\n",
      "Epoch 17/100\n",
      "23/23 [==============================] - 5s 217ms/step - loss: 4.9288e-04 - val_loss: 0.0107\n",
      "Epoch 18/100\n",
      "23/23 [==============================] - 5s 222ms/step - loss: 4.9947e-04 - val_loss: 0.0092\n",
      "Epoch 19/100\n",
      "23/23 [==============================] - 5s 218ms/step - loss: 5.3450e-04 - val_loss: 0.0037\n",
      "Epoch 20/100\n",
      "23/23 [==============================] - 5s 224ms/step - loss: 4.8437e-04 - val_loss: 0.0040\n",
      "Epoch 21/100\n",
      "23/23 [==============================] - 5s 220ms/step - loss: 4.8040e-04 - val_loss: 0.0074\n",
      "Epoch 22/100\n",
      "23/23 [==============================] - 5s 225ms/step - loss: 4.3871e-04 - val_loss: 0.0033\n",
      "Epoch 23/100\n",
      "23/23 [==============================] - 5s 229ms/step - loss: 4.3411e-04 - val_loss: 0.0072\n",
      "Epoch 24/100\n",
      "23/23 [==============================] - 5s 223ms/step - loss: 4.1129e-04 - val_loss: 0.0071\n",
      "Epoch 25/100\n",
      "23/23 [==============================] - 5s 229ms/step - loss: 3.9994e-04 - val_loss: 0.0075\n",
      "Epoch 26/100\n",
      "23/23 [==============================] - 5s 226ms/step - loss: 3.8861e-04 - val_loss: 0.0058\n",
      "Epoch 27/100\n",
      "23/23 [==============================] - 5s 223ms/step - loss: 3.8431e-04 - val_loss: 0.0033\n",
      "Epoch 28/100\n",
      "23/23 [==============================] - 5s 225ms/step - loss: 3.6792e-04 - val_loss: 0.0027\n",
      "Epoch 29/100\n",
      "23/23 [==============================] - 6s 242ms/step - loss: 3.4809e-04 - val_loss: 0.0080\n",
      "Epoch 30/100\n",
      "23/23 [==============================] - 5s 238ms/step - loss: 3.5552e-04 - val_loss: 0.0050\n",
      "Epoch 31/100\n",
      "23/23 [==============================] - 6s 248ms/step - loss: 3.2446e-04 - val_loss: 0.0050\n",
      "Epoch 32/100\n",
      "23/23 [==============================] - 6s 279ms/step - loss: 3.2711e-04 - val_loss: 0.0022\n",
      "Epoch 33/100\n",
      "23/23 [==============================] - 6s 242ms/step - loss: 3.0651e-04 - val_loss: 0.0029\n",
      "Epoch 34/100\n",
      "23/23 [==============================] - 5s 225ms/step - loss: 2.9258e-04 - val_loss: 0.0032\n",
      "Epoch 35/100\n",
      "23/23 [==============================] - 5s 225ms/step - loss: 2.7348e-04 - val_loss: 0.0020\n",
      "Epoch 36/100\n",
      "23/23 [==============================] - 5s 218ms/step - loss: 2.7723e-04 - val_loss: 0.0020\n",
      "Epoch 37/100\n",
      "23/23 [==============================] - 5s 223ms/step - loss: 2.5562e-04 - val_loss: 0.0028\n",
      "Epoch 38/100\n",
      "23/23 [==============================] - 5s 218ms/step - loss: 2.9072e-04 - val_loss: 0.0023\n",
      "Epoch 39/100\n",
      "23/23 [==============================] - 5s 226ms/step - loss: 2.5890e-04 - val_loss: 0.0013\n",
      "Epoch 40/100\n",
      "23/23 [==============================] - 5s 224ms/step - loss: 2.1842e-04 - val_loss: 0.0014\n",
      "Epoch 41/100\n",
      "23/23 [==============================] - 5s 220ms/step - loss: 2.1570e-04 - val_loss: 0.0018\n",
      "Epoch 42/100\n",
      "23/23 [==============================] - 5s 225ms/step - loss: 2.2508e-04 - val_loss: 0.0012\n",
      "Epoch 43/100\n",
      "23/23 [==============================] - 5s 231ms/step - loss: 1.9265e-04 - val_loss: 6.8012e-04\n",
      "Epoch 44/100\n",
      "23/23 [==============================] - 5s 231ms/step - loss: 2.0903e-04 - val_loss: 0.0029\n",
      "Epoch 45/100\n",
      "23/23 [==============================] - 5s 239ms/step - loss: 2.3262e-04 - val_loss: 0.0014\n",
      "Epoch 46/100\n",
      "23/23 [==============================] - 5s 233ms/step - loss: 1.8918e-04 - val_loss: 8.3992e-04\n",
      "Epoch 47/100\n",
      "23/23 [==============================] - 6s 251ms/step - loss: 2.0222e-04 - val_loss: 0.0011\n",
      "Epoch 48/100\n",
      "23/23 [==============================] - 5s 236ms/step - loss: 1.7330e-04 - val_loss: 0.0021\n",
      "Epoch 49/100\n",
      "23/23 [==============================] - 6s 244ms/step - loss: 1.7379e-04 - val_loss: 4.9060e-04\n",
      "Epoch 50/100\n",
      "23/23 [==============================] - 5s 235ms/step - loss: 1.6577e-04 - val_loss: 9.5583e-04\n",
      "Epoch 51/100\n",
      "23/23 [==============================] - 6s 248ms/step - loss: 1.6318e-04 - val_loss: 0.0010\n",
      "Epoch 52/100\n",
      "23/23 [==============================] - 6s 253ms/step - loss: 1.8445e-04 - val_loss: 0.0014\n",
      "Epoch 53/100\n",
      "23/23 [==============================] - 6s 241ms/step - loss: 1.6083e-04 - val_loss: 0.0016\n",
      "Epoch 54/100\n",
      "23/23 [==============================] - 6s 248ms/step - loss: 1.6048e-04 - val_loss: 4.5222e-04\n",
      "Epoch 55/100\n",
      "23/23 [==============================] - 6s 264ms/step - loss: 1.4282e-04 - val_loss: 4.3232e-04\n",
      "Epoch 56/100\n",
      "23/23 [==============================] - 6s 275ms/step - loss: 1.4997e-04 - val_loss: 0.0017\n",
      "Epoch 57/100\n",
      "23/23 [==============================] - 6s 279ms/step - loss: 1.6470e-04 - val_loss: 8.3108e-04\n",
      "Epoch 58/100\n",
      "23/23 [==============================] - 6s 251ms/step - loss: 1.5536e-04 - val_loss: 6.8494e-04\n",
      "Epoch 59/100\n",
      "23/23 [==============================] - 6s 246ms/step - loss: 1.4041e-04 - val_loss: 5.7535e-04\n",
      "Epoch 60/100\n",
      "23/23 [==============================] - 6s 247ms/step - loss: 1.2854e-04 - val_loss: 4.5043e-04\n",
      "Epoch 61/100\n",
      "23/23 [==============================] - 6s 261ms/step - loss: 1.3606e-04 - val_loss: 8.6396e-04\n",
      "Epoch 62/100\n",
      "23/23 [==============================] - 6s 254ms/step - loss: 1.3869e-04 - val_loss: 5.8559e-04\n",
      "Epoch 63/100\n",
      "23/23 [==============================] - 6s 253ms/step - loss: 1.6757e-04 - val_loss: 0.0011\n",
      "Epoch 64/100\n",
      "23/23 [==============================] - 6s 249ms/step - loss: 1.2734e-04 - val_loss: 0.0013\n",
      "Epoch 65/100\n",
      "23/23 [==============================] - 6s 245ms/step - loss: 1.2808e-04 - val_loss: 5.4351e-04\n",
      "Epoch 66/100\n",
      "23/23 [==============================] - 6s 258ms/step - loss: 1.2150e-04 - val_loss: 4.0530e-04\n",
      "Epoch 67/100\n",
      "23/23 [==============================] - 7s 288ms/step - loss: 1.3208e-04 - val_loss: 8.6084e-04\n",
      "Epoch 68/100\n",
      "23/23 [==============================] - 6s 261ms/step - loss: 1.4419e-04 - val_loss: 5.9177e-04\n",
      "Epoch 69/100\n",
      "23/23 [==============================] - 6s 253ms/step - loss: 1.2011e-04 - val_loss: 5.9328e-04\n",
      "Epoch 70/100\n",
      "23/23 [==============================] - 5s 237ms/step - loss: 1.2487e-04 - val_loss: 4.4655e-04\n",
      "Epoch 71/100\n",
      "23/23 [==============================] - 6s 245ms/step - loss: 1.2003e-04 - val_loss: 7.2774e-04\n",
      "Epoch 72/100\n",
      "23/23 [==============================] - 6s 253ms/step - loss: 1.1615e-04 - val_loss: 5.5953e-04\n",
      "Epoch 73/100\n",
      "23/23 [==============================] - 6s 241ms/step - loss: 1.3404e-04 - val_loss: 5.0146e-04\n",
      "Epoch 74/100\n",
      "23/23 [==============================] - 6s 243ms/step - loss: 1.4760e-04 - val_loss: 7.1785e-04\n",
      "Epoch 75/100\n",
      "23/23 [==============================] - 6s 252ms/step - loss: 1.2207e-04 - val_loss: 5.7018e-04\n",
      "Epoch 76/100\n",
      "23/23 [==============================] - 6s 251ms/step - loss: 1.1330e-04 - val_loss: 0.0011\n",
      "Epoch 77/100\n",
      "23/23 [==============================] - 6s 281ms/step - loss: 1.2004e-04 - val_loss: 4.7751e-04\n",
      "Epoch 78/100\n",
      "23/23 [==============================] - 6s 257ms/step - loss: 1.1065e-04 - val_loss: 5.8648e-04\n",
      "Epoch 79/100\n",
      "23/23 [==============================] - 6s 254ms/step - loss: 1.1408e-04 - val_loss: 6.6778e-04\n",
      "Epoch 80/100\n",
      "23/23 [==============================] - 6s 241ms/step - loss: 1.1349e-04 - val_loss: 4.7306e-04\n",
      "Epoch 81/100\n",
      "23/23 [==============================] - 6s 241ms/step - loss: 1.2021e-04 - val_loss: 7.7213e-04\n",
      "Epoch 82/100\n",
      "23/23 [==============================] - 6s 249ms/step - loss: 1.1677e-04 - val_loss: 4.5072e-04\n",
      "Epoch 83/100\n",
      "23/23 [==============================] - 6s 241ms/step - loss: 1.1421e-04 - val_loss: 4.5660e-04\n",
      "Epoch 84/100\n",
      "23/23 [==============================] - 6s 244ms/step - loss: 1.3483e-04 - val_loss: 0.0018\n",
      "Epoch 85/100\n",
      "23/23 [==============================] - 6s 241ms/step - loss: 1.3344e-04 - val_loss: 5.1973e-04\n",
      "Epoch 86/100\n",
      "23/23 [==============================] - 5s 237ms/step - loss: 1.1150e-04 - val_loss: 5.9333e-04\n",
      "Epoch 87/100\n",
      "23/23 [==============================] - 5s 239ms/step - loss: 1.0883e-04 - val_loss: 9.1266e-04\n",
      "Epoch 88/100\n",
      "23/23 [==============================] - 6s 246ms/step - loss: 1.1199e-04 - val_loss: 4.5488e-04\n",
      "Epoch 89/100\n",
      "23/23 [==============================] - 5s 236ms/step - loss: 1.3079e-04 - val_loss: 7.1199e-04\n",
      "Epoch 90/100\n",
      "23/23 [==============================] - 6s 244ms/step - loss: 1.2429e-04 - val_loss: 6.3994e-04\n",
      "Epoch 91/100\n",
      "23/23 [==============================] - 5s 237ms/step - loss: 1.1409e-04 - val_loss: 9.2262e-04\n",
      "Epoch 92/100\n",
      "23/23 [==============================] - 5s 234ms/step - loss: 1.1726e-04 - val_loss: 5.9335e-04\n",
      "Epoch 93/100\n",
      "23/23 [==============================] - 5s 235ms/step - loss: 1.1447e-04 - val_loss: 6.7569e-04\n",
      "Epoch 94/100\n",
      "23/23 [==============================] - 5s 235ms/step - loss: 1.0791e-04 - val_loss: 7.1790e-04\n",
      "Epoch 95/100\n",
      "23/23 [==============================] - 5s 234ms/step - loss: 1.1253e-04 - val_loss: 6.8334e-04\n",
      "Epoch 96/100\n",
      "23/23 [==============================] - 5s 236ms/step - loss: 1.1281e-04 - val_loss: 7.7638e-04\n",
      "Epoch 97/100\n",
      "23/23 [==============================] - 5s 235ms/step - loss: 1.1854e-04 - val_loss: 0.0010\n",
      "Epoch 98/100\n",
      "23/23 [==============================] - 5s 235ms/step - loss: 1.2328e-04 - val_loss: 9.4809e-04\n",
      "Epoch 99/100\n",
      "23/23 [==============================] - 5s 235ms/step - loss: 1.1131e-04 - val_loss: 6.0815e-04\n",
      "Epoch 100/100\n",
      "23/23 [==============================] - 5s 236ms/step - loss: 1.1300e-04 - val_loss: 6.0271e-04\n"
     ]
    },
    {
     "data": {
      "text/plain": [
       "<tensorflow.python.keras.callbacks.History at 0x1a3e5dc8d90>"
      ]
     },
     "execution_count": 23,
     "metadata": {},
     "output_type": "execute_result"
    }
   ],
   "source": [
    "lstm.fit(x_train,y_train,validation_data = (x_test,y_test),epochs = 100,batch_size = 64,verbose = 1)\n"
   ]
  },
  {
   "cell_type": "code",
   "execution_count": 24,
   "id": "e869ea4f",
   "metadata": {},
   "outputs": [],
   "source": [
    "train_pred = lstm.predict(x_train)\n",
    "test_pred = lstm.predict(x_test)"
   ]
  },
  {
   "cell_type": "code",
   "execution_count": 25,
   "id": "721e5008",
   "metadata": {},
   "outputs": [],
   "source": [
    "train_pred = sc.inverse_transform(train_pred)\n",
    "test_pred = sc.inverse_transform(test_pred)"
   ]
  },
  {
   "cell_type": "code",
   "execution_count": 27,
   "id": "7ad047fb",
   "metadata": {},
   "outputs": [],
   "source": [
    "import math"
   ]
  },
  {
   "cell_type": "code",
   "execution_count": 28,
   "id": "ebd8c87b",
   "metadata": {},
   "outputs": [
    {
     "data": {
      "text/plain": [
       "135.82994703880803"
      ]
     },
     "execution_count": 28,
     "metadata": {},
     "output_type": "execute_result"
    }
   ],
   "source": [
    "math.sqrt(mean_squared_error(y_train,train_pred)) #RMSE performance metrics"
   ]
  },
  {
   "cell_type": "code",
   "execution_count": 29,
   "id": "4f608e5f",
   "metadata": {},
   "outputs": [
    {
     "data": {
      "text/plain": [
       "229.9312832309935"
      ]
     },
     "execution_count": 29,
     "metadata": {},
     "output_type": "execute_result"
    }
   ],
   "source": [
    "math.sqrt(mean_squared_error(y_test,test_pred)) #RMSE test data"
   ]
  },
  {
   "cell_type": "markdown",
   "id": "cc686beb",
   "metadata": {},
   "source": [
    "### Plotting"
   ]
  },
  {
   "cell_type": "code",
   "execution_count": 30,
   "id": "3166bbf6",
   "metadata": {},
   "outputs": [
    {
     "data": {
      "image/png": "[encoded data removed]",
      "text/plain": [
       "<Figure size 432x288 with 1 Axes>"
      ]
     },
     "metadata": {
      "needs_background": "light"
     },
     "output_type": "display_data"
    },
    {
     "name": "stdout",
     "output_type": "stream",
     "text": [
      "Green : Predicted data\n",
      "Blue: Complete data\n",
      "Orange: Train data\n"
     ]
    }
   ],
   "source": [
    "#shift train prediction for plotting\n",
    "look_back = 100\n",
    "trainPredictPlot = np.empty_like(ds_high)\n",
    "trainPredictPlot[:,:] = np.nan\n",
    "trainPredictPlot[look_back : len(train_pred) + look_back,:] = train_pred\n",
    "\n",
    "#shift test prediction for plotting\n",
    "testPredictPlot = np.empty_like(ds_high)\n",
    "testPredictPlot[:,:] = np.nan\n",
    "testPredictPlot[len(train_pred) +  (look_back * 2)+1:len(ds_high) - 1, :] = test_pred\n",
    "\n",
    "#plot baseline and predictions\n",
    "plt.plot(sc.inverse_transform(ds_high))\n",
    "plt.plot(trainPredictPlot)\n",
    "plt.plot(testPredictPlot)\n",
    "plt.show()\n",
    "\n",
    "print(\"Green : Predicted data\")\n",
    "print(\"Blue: Complete data\")\n",
    "print(\"Orange: Train data\")"
   ]
  },
  {
   "cell_type": "code",
   "execution_count": 31,
   "id": "ccba30b6",
   "metadata": {},
   "outputs": [
    {
     "data": {
      "text/plain": [
       "(509, (408, 100, 1))"
      ]
     },
     "execution_count": 31,
     "metadata": {},
     "output_type": "execute_result"
    }
   ],
   "source": [
    "len(test_data),x_test.shape #predict the next 28 days stock price"
   ]
  },
  {
   "cell_type": "code",
   "execution_count": 32,
   "id": "ff022899",
   "metadata": {},
   "outputs": [
    {
     "data": {
      "text/plain": [
       "(1, 100)"
      ]
     },
     "execution_count": 32,
     "metadata": {},
     "output_type": "execute_result"
    }
   ],
   "source": [
    "x_input = test_data[409:].reshape(1,-1)\n",
    "x_input.shape"
   ]
  },
  {
   "cell_type": "code",
   "execution_count": 33,
   "id": "f91b85da",
   "metadata": {},
   "outputs": [
    {
     "name": "stdout",
     "output_type": "stream",
     "text": [
      "[0.6160861]\n",
      "101\n",
      "1 day input [0.86013417 0.85464525 0.84448059 0.8072779  0.71843871 0.66192316\n",
      " 0.67696686 0.67554381 0.67310429 0.68428542 0.68936776 0.70217524\n",
      " 0.71803212 0.72941655 0.73144948 0.74486684 0.76926205 0.75991055\n",
      " 0.74242732 0.73958122 0.74771295 0.75991055 0.7584875  0.76621264\n",
      " 0.75462492 0.76316324 0.79670665 0.80585485 0.7889815  0.78003659\n",
      " 0.73978451 0.73002643 0.73490547 0.74872942 0.75991055 0.75462492\n",
      " 0.75401504 0.76174019 0.7737345  0.82008538 0.80585485 0.81154706\n",
      " 0.77434438 0.78633869 0.79284407 0.78328929 0.77109169 0.74385038\n",
      " 0.71193332 0.68733482 0.67818662 0.65257166 0.64301687 0.65643423\n",
      " 0.67656028 0.67371417 0.65114861 0.65521447 0.66761537 0.67838992\n",
      " 0.69993901 0.63122586 0.63508843 0.64098394 0.64545639 0.64118723\n",
      " 0.63854442 0.63081927 0.62472047 0.6330555  0.64728603 0.6574507\n",
      " 0.66761537 0.66720878 0.64159382 0.62776987 0.63651149 0.63630819\n",
      " 0.62980281 0.62817646 0.63813783 0.65358813 0.63183574 0.57653995\n",
      " 0.57816629 0.57613336 0.61943484 0.57979264 0.57288067 0.62573694\n",
      " 0.63102257 0.6361049  0.62776987 0.6269567  0.63590161 0.62594023\n",
      " 0.6391543  0.62614353 0.62268754 0.61608613]\n",
      "1 day output [[0.6016138]]\n",
      "2 day input [0.85464525 0.84448059 0.8072779  0.71843871 0.66192316 0.67696686\n",
      " 0.67554381 0.67310429 0.68428542 0.68936776 0.70217524 0.71803212\n",
      " 0.72941655 0.73144948 0.74486684 0.76926205 0.75991055 0.74242732\n",
      " 0.73958122 0.74771295 0.75991055 0.7584875  0.76621264 0.75462492\n",
      " 0.76316324 0.79670665 0.80585485 0.7889815  0.78003659 0.73978451\n",
      " 0.73002643 0.73490547 0.74872942 0.75991055 0.75462492 0.75401504\n",
      " 0.76174019 0.7737345  0.82008538 0.80585485 0.81154706 0.77434438\n",
      " 0.78633869 0.79284407 0.78328929 0.77109169 0.74385038 0.71193332\n",
      " 0.68733482 0.67818662 0.65257166 0.64301687 0.65643423 0.67656028\n",
      " 0.67371417 0.65114861 0.65521447 0.66761537 0.67838992 0.69993901\n",
      " 0.63122586 0.63508843 0.64098394 0.64545639 0.64118723 0.63854442\n",
      " 0.63081927 0.62472047 0.6330555  0.64728603 0.6574507  0.66761537\n",
      " 0.66720878 0.64159382 0.62776987 0.63651149 0.63630819 0.62980281\n",
      " 0.62817646 0.63813783 0.65358813 0.63183574 0.57653995 0.57816629\n",
      " 0.57613336 0.61943484 0.57979264 0.57288067 0.62573694 0.63102257\n",
      " 0.6361049  0.62776987 0.6269567  0.63590161 0.62594023 0.6391543\n",
      " 0.62614353 0.62268754 0.61608613 0.60161382]\n",
      "2 day output [[0.58355576]]\n",
      "3 day input [0.84448059 0.8072779  0.71843871 0.66192316 0.67696686 0.67554381\n",
      " 0.67310429 0.68428542 0.68936776 0.70217524 0.71803212 0.72941655\n",
      " 0.73144948 0.74486684 0.76926205 0.75991055 0.74242732 0.73958122\n",
      " 0.74771295 0.75991055 0.7584875  0.76621264 0.75462492 0.76316324\n",
      " 0.79670665 0.80585485 0.7889815  0.78003659 0.73978451 0.73002643\n",
      " 0.73490547 0.74872942 0.75991055 0.75462492 0.75401504 0.76174019\n",
      " 0.7737345  0.82008538 0.80585485 0.81154706 0.77434438 0.78633869\n",
      " 0.79284407 0.78328929 0.77109169 0.74385038 0.71193332 0.68733482\n",
      " 0.67818662 0.65257166 0.64301687 0.65643423 0.67656028 0.67371417\n",
      " 0.65114861 0.65521447 0.66761537 0.67838992 0.69993901 0.63122586\n",
      " 0.63508843 0.64098394 0.64545639 0.64118723 0.63854442 0.63081927\n",
      " 0.62472047 0.6330555  0.64728603 0.6574507  0.66761537 0.66720878\n",
      " 0.64159382 0.62776987 0.63651149 0.63630819 0.62980281 0.62817646\n",
      " 0.63813783 0.65358813 0.63183574 0.57653995 0.57816629 0.57613336\n",
      " 0.61943484 0.57979264 0.57288067 0.62573694 0.63102257 0.6361049\n",
      " 0.62776987 0.6269567  0.63590161 0.62594023 0.6391543  0.62614353\n",
      " 0.62268754 0.61608613 0.60161382 0.58355576]\n",
      "3 day output [[0.567632]]\n",
      "4 day input [0.8072779  0.71843871 0.66192316 0.67696686 0.67554381 0.67310429\n",
      " 0.68428542 0.68936776 0.70217524 0.71803212 0.72941655 0.73144948\n",
      " 0.74486684 0.76926205 0.75991055 0.74242732 0.73958122 0.74771295\n",
      " 0.75991055 0.7584875  0.76621264 0.75462492 0.76316324 0.79670665\n",
      " 0.80585485 0.7889815  0.78003659 0.73978451 0.73002643 0.73490547\n",
      " 0.74872942 0.75991055 0.75462492 0.75401504 0.76174019 0.7737345\n",
      " 0.82008538 0.80585485 0.81154706 0.77434438 0.78633869 0.79284407\n",
      " 0.78328929 0.77109169 0.74385038 0.71193332 0.68733482 0.67818662\n",
      " 0.65257166 0.64301687 0.65643423 0.67656028 0.67371417 0.65114861\n",
      " 0.65521447 0.66761537 0.67838992 0.69993901 0.63122586 0.63508843\n",
      " 0.64098394 0.64545639 0.64118723 0.63854442 0.63081927 0.62472047\n",
      " 0.6330555  0.64728603 0.6574507  0.66761537 0.66720878 0.64159382\n",
      " 0.62776987 0.63651149 0.63630819 0.62980281 0.62817646 0.63813783\n",
      " 0.65358813 0.63183574 0.57653995 0.57816629 0.57613336 0.61943484\n",
      " 0.57979264 0.57288067 0.62573694 0.63102257 0.6361049  0.62776987\n",
      " 0.6269567  0.63590161 0.62594023 0.6391543  0.62614353 0.62268754\n",
      " 0.61608613 0.60161382 0.58355576 0.56763202]\n",
      "4 day output [[0.55342585]]\n",
      "5 day input [0.71843871 0.66192316 0.67696686 0.67554381 0.67310429 0.68428542\n",
      " 0.68936776 0.70217524 0.71803212 0.72941655 0.73144948 0.74486684\n",
      " 0.76926205 0.75991055 0.74242732 0.73958122 0.74771295 0.75991055\n",
      " 0.7584875  0.76621264 0.75462492 0.76316324 0.79670665 0.80585485\n",
      " 0.7889815  0.78003659 0.73978451 0.73002643 0.73490547 0.74872942\n",
      " 0.75991055 0.75462492 0.75401504 0.76174019 0.7737345  0.82008538\n",
      " 0.80585485 0.81154706 0.77434438 0.78633869 0.79284407 0.78328929\n",
      " 0.77109169 0.74385038 0.71193332 0.68733482 0.67818662 0.65257166\n",
      " 0.64301687 0.65643423 0.67656028 0.67371417 0.65114861 0.65521447\n",
      " 0.66761537 0.67838992 0.69993901 0.63122586 0.63508843 0.64098394\n",
      " 0.64545639 0.64118723 0.63854442 0.63081927 0.62472047 0.6330555\n",
      " 0.64728603 0.6574507  0.66761537 0.66720878 0.64159382 0.62776987\n",
      " 0.63651149 0.63630819 0.62980281 0.62817646 0.63813783 0.65358813\n",
      " 0.63183574 0.57653995 0.57816629 0.57613336 0.61943484 0.57979264\n",
      " 0.57288067 0.62573694 0.63102257 0.6361049  0.62776987 0.6269567\n",
      " 0.63590161 0.62594023 0.6391543  0.62614353 0.62268754 0.61608613\n",
      " 0.60161382 0.58355576 0.56763202 0.55342585]\n",
      "5 day output [[0.5404637]]\n",
      "6 day input [0.66192316 0.67696686 0.67554381 0.67310429 0.68428542 0.68936776\n",
      " 0.70217524 0.71803212 0.72941655 0.73144948 0.74486684 0.76926205\n",
      " 0.75991055 0.74242732 0.73958122 0.74771295 0.75991055 0.7584875\n",
      " 0.76621264 0.75462492 0.76316324 0.79670665 0.80585485 0.7889815\n",
      " 0.78003659 0.73978451 0.73002643 0.73490547 0.74872942 0.75991055\n",
      " 0.75462492 0.75401504 0.76174019 0.7737345  0.82008538 0.80585485\n",
      " 0.81154706 0.77434438 0.78633869 0.79284407 0.78328929 0.77109169\n",
      " 0.74385038 0.71193332 0.68733482 0.67818662 0.65257166 0.64301687\n",
      " 0.65643423 0.67656028 0.67371417 0.65114861 0.65521447 0.66761537\n",
      " 0.67838992 0.69993901 0.63122586 0.63508843 0.64098394 0.64545639\n",
      " 0.64118723 0.63854442 0.63081927 0.62472047 0.6330555  0.64728603\n",
      " 0.6574507  0.66761537 0.66720878 0.64159382 0.62776987 0.63651149\n",
      " 0.63630819 0.62980281 0.62817646 0.63813783 0.65358813 0.63183574\n",
      " 0.57653995 0.57816629 0.57613336 0.61943484 0.57979264 0.57288067\n",
      " 0.62573694 0.63102257 0.6361049  0.62776987 0.6269567  0.63590161\n",
      " 0.62594023 0.6391543  0.62614353 0.62268754 0.61608613 0.60161382\n",
      " 0.58355576 0.56763202 0.55342585 0.54046369]\n",
      "6 day output [[0.5284128]]\n",
      "7 day input [0.67696686 0.67554381 0.67310429 0.68428542 0.68936776 0.70217524\n",
      " 0.71803212 0.72941655 0.73144948 0.74486684 0.76926205 0.75991055\n",
      " 0.74242732 0.73958122 0.74771295 0.75991055 0.7584875  0.76621264\n",
      " 0.75462492 0.76316324 0.79670665 0.80585485 0.7889815  0.78003659\n",
      " 0.73978451 0.73002643 0.73490547 0.74872942 0.75991055 0.75462492\n",
      " 0.75401504 0.76174019 0.7737345  0.82008538 0.80585485 0.81154706\n",
      " 0.77434438 0.78633869 0.79284407 0.78328929 0.77109169 0.74385038\n",
      " 0.71193332 0.68733482 0.67818662 0.65257166 0.64301687 0.65643423\n",
      " 0.67656028 0.67371417 0.65114861 0.65521447 0.66761537 0.67838992\n",
      " 0.69993901 0.63122586 0.63508843 0.64098394 0.64545639 0.64118723\n",
      " 0.63854442 0.63081927 0.62472047 0.6330555  0.64728603 0.6574507\n",
      " 0.66761537 0.66720878 0.64159382 0.62776987 0.63651149 0.63630819\n",
      " 0.62980281 0.62817646 0.63813783 0.65358813 0.63183574 0.57653995\n",
      " 0.57816629 0.57613336 0.61943484 0.57979264 0.57288067 0.62573694\n",
      " 0.63102257 0.6361049  0.62776987 0.6269567  0.63590161 0.62594023\n",
      " 0.6391543  0.62614353 0.62268754 0.61608613 0.60161382 0.58355576\n",
      " 0.56763202 0.55342585 0.54046369 0.52841282]\n",
      "7 day output [[0.5180379]]\n",
      "8 day input [0.67554381 0.67310429 0.68428542 0.68936776 0.70217524 0.71803212\n",
      " 0.72941655 0.73144948 0.74486684 0.76926205 0.75991055 0.74242732\n",
      " 0.73958122 0.74771295 0.75991055 0.7584875  0.76621264 0.75462492\n",
      " 0.76316324 0.79670665 0.80585485 0.7889815  0.78003659 0.73978451\n",
      " 0.73002643 0.73490547 0.74872942 0.75991055 0.75462492 0.75401504\n",
      " 0.76174019 0.7737345  0.82008538 0.80585485 0.81154706 0.77434438\n",
      " 0.78633869 0.79284407 0.78328929 0.77109169 0.74385038 0.71193332\n",
      " 0.68733482 0.67818662 0.65257166 0.64301687 0.65643423 0.67656028\n",
      " 0.67371417 0.65114861 0.65521447 0.66761537 0.67838992 0.69993901\n",
      " 0.63122586 0.63508843 0.64098394 0.64545639 0.64118723 0.63854442\n",
      " 0.63081927 0.62472047 0.6330555  0.64728603 0.6574507  0.66761537\n",
      " 0.66720878 0.64159382 0.62776987 0.63651149 0.63630819 0.62980281\n",
      " 0.62817646 0.63813783 0.65358813 0.63183574 0.57653995 0.57816629\n",
      " 0.57613336 0.61943484 0.57979264 0.57288067 0.62573694 0.63102257\n",
      " 0.6361049  0.62776987 0.6269567  0.63590161 0.62594023 0.6391543\n",
      " 0.62614353 0.62268754 0.61608613 0.60161382 0.58355576 0.56763202\n",
      " 0.55342585 0.54046369 0.52841282 0.51803792]\n"
     ]
    },
    {
     "name": "stdout",
     "output_type": "stream",
     "text": [
      "8 day output [[0.5094019]]\n",
      "9 day input [0.67310429 0.68428542 0.68936776 0.70217524 0.71803212 0.72941655\n",
      " 0.73144948 0.74486684 0.76926205 0.75991055 0.74242732 0.73958122\n",
      " 0.74771295 0.75991055 0.7584875  0.76621264 0.75462492 0.76316324\n",
      " 0.79670665 0.80585485 0.7889815  0.78003659 0.73978451 0.73002643\n",
      " 0.73490547 0.74872942 0.75991055 0.75462492 0.75401504 0.76174019\n",
      " 0.7737345  0.82008538 0.80585485 0.81154706 0.77434438 0.78633869\n",
      " 0.79284407 0.78328929 0.77109169 0.74385038 0.71193332 0.68733482\n",
      " 0.67818662 0.65257166 0.64301687 0.65643423 0.67656028 0.67371417\n",
      " 0.65114861 0.65521447 0.66761537 0.67838992 0.69993901 0.63122586\n",
      " 0.63508843 0.64098394 0.64545639 0.64118723 0.63854442 0.63081927\n",
      " 0.62472047 0.6330555  0.64728603 0.6574507  0.66761537 0.66720878\n",
      " 0.64159382 0.62776987 0.63651149 0.63630819 0.62980281 0.62817646\n",
      " 0.63813783 0.65358813 0.63183574 0.57653995 0.57816629 0.57613336\n",
      " 0.61943484 0.57979264 0.57288067 0.62573694 0.63102257 0.6361049\n",
      " 0.62776987 0.6269567  0.63590161 0.62594023 0.6391543  0.62614353\n",
      " 0.62268754 0.61608613 0.60161382 0.58355576 0.56763202 0.55342585\n",
      " 0.54046369 0.52841282 0.51803792 0.50940192]\n",
      "9 day output [[0.5019231]]\n",
      "10 day input [0.68428542 0.68936776 0.70217524 0.71803212 0.72941655 0.73144948\n",
      " 0.74486684 0.76926205 0.75991055 0.74242732 0.73958122 0.74771295\n",
      " 0.75991055 0.7584875  0.76621264 0.75462492 0.76316324 0.79670665\n",
      " 0.80585485 0.7889815  0.78003659 0.73978451 0.73002643 0.73490547\n",
      " 0.74872942 0.75991055 0.75462492 0.75401504 0.76174019 0.7737345\n",
      " 0.82008538 0.80585485 0.81154706 0.77434438 0.78633869 0.79284407\n",
      " 0.78328929 0.77109169 0.74385038 0.71193332 0.68733482 0.67818662\n",
      " 0.65257166 0.64301687 0.65643423 0.67656028 0.67371417 0.65114861\n",
      " 0.65521447 0.66761537 0.67838992 0.69993901 0.63122586 0.63508843\n",
      " 0.64098394 0.64545639 0.64118723 0.63854442 0.63081927 0.62472047\n",
      " 0.6330555  0.64728603 0.6574507  0.66761537 0.66720878 0.64159382\n",
      " 0.62776987 0.63651149 0.63630819 0.62980281 0.62817646 0.63813783\n",
      " 0.65358813 0.63183574 0.57653995 0.57816629 0.57613336 0.61943484\n",
      " 0.57979264 0.57288067 0.62573694 0.63102257 0.6361049  0.62776987\n",
      " 0.6269567  0.63590161 0.62594023 0.6391543  0.62614353 0.62268754\n",
      " 0.61608613 0.60161382 0.58355576 0.56763202 0.55342585 0.54046369\n",
      " 0.52841282 0.51803792 0.50940192 0.50192308]\n",
      "10 day output [[0.49523467]]\n",
      "11 day input [0.68936776 0.70217524 0.71803212 0.72941655 0.73144948 0.74486684\n",
      " 0.76926205 0.75991055 0.74242732 0.73958122 0.74771295 0.75991055\n",
      " 0.7584875  0.76621264 0.75462492 0.76316324 0.79670665 0.80585485\n",
      " 0.7889815  0.78003659 0.73978451 0.73002643 0.73490547 0.74872942\n",
      " 0.75991055 0.75462492 0.75401504 0.76174019 0.7737345  0.82008538\n",
      " 0.80585485 0.81154706 0.77434438 0.78633869 0.79284407 0.78328929\n",
      " 0.77109169 0.74385038 0.71193332 0.68733482 0.67818662 0.65257166\n",
      " 0.64301687 0.65643423 0.67656028 0.67371417 0.65114861 0.65521447\n",
      " 0.66761537 0.67838992 0.69993901 0.63122586 0.63508843 0.64098394\n",
      " 0.64545639 0.64118723 0.63854442 0.63081927 0.62472047 0.6330555\n",
      " 0.64728603 0.6574507  0.66761537 0.66720878 0.64159382 0.62776987\n",
      " 0.63651149 0.63630819 0.62980281 0.62817646 0.63813783 0.65358813\n",
      " 0.63183574 0.57653995 0.57816629 0.57613336 0.61943484 0.57979264\n",
      " 0.57288067 0.62573694 0.63102257 0.6361049  0.62776987 0.6269567\n",
      " 0.63590161 0.62594023 0.6391543  0.62614353 0.62268754 0.61608613\n",
      " 0.60161382 0.58355576 0.56763202 0.55342585 0.54046369 0.52841282\n",
      " 0.51803792 0.50940192 0.50192308 0.49523467]\n",
      "11 day output [[0.4891326]]\n",
      "12 day input [0.70217524 0.71803212 0.72941655 0.73144948 0.74486684 0.76926205\n",
      " 0.75991055 0.74242732 0.73958122 0.74771295 0.75991055 0.7584875\n",
      " 0.76621264 0.75462492 0.76316324 0.79670665 0.80585485 0.7889815\n",
      " 0.78003659 0.73978451 0.73002643 0.73490547 0.74872942 0.75991055\n",
      " 0.75462492 0.75401504 0.76174019 0.7737345  0.82008538 0.80585485\n",
      " 0.81154706 0.77434438 0.78633869 0.79284407 0.78328929 0.77109169\n",
      " 0.74385038 0.71193332 0.68733482 0.67818662 0.65257166 0.64301687\n",
      " 0.65643423 0.67656028 0.67371417 0.65114861 0.65521447 0.66761537\n",
      " 0.67838992 0.69993901 0.63122586 0.63508843 0.64098394 0.64545639\n",
      " 0.64118723 0.63854442 0.63081927 0.62472047 0.6330555  0.64728603\n",
      " 0.6574507  0.66761537 0.66720878 0.64159382 0.62776987 0.63651149\n",
      " 0.63630819 0.62980281 0.62817646 0.63813783 0.65358813 0.63183574\n",
      " 0.57653995 0.57816629 0.57613336 0.61943484 0.57979264 0.57288067\n",
      " 0.62573694 0.63102257 0.6361049  0.62776987 0.6269567  0.63590161\n",
      " 0.62594023 0.6391543  0.62614353 0.62268754 0.61608613 0.60161382\n",
      " 0.58355576 0.56763202 0.55342585 0.54046369 0.52841282 0.51803792\n",
      " 0.50940192 0.50192308 0.49523467 0.48913261]\n",
      "12 day output [[0.48348233]]\n",
      "13 day input [0.71803212 0.72941655 0.73144948 0.74486684 0.76926205 0.75991055\n",
      " 0.74242732 0.73958122 0.74771295 0.75991055 0.7584875  0.76621264\n",
      " 0.75462492 0.76316324 0.79670665 0.80585485 0.7889815  0.78003659\n",
      " 0.73978451 0.73002643 0.73490547 0.74872942 0.75991055 0.75462492\n",
      " 0.75401504 0.76174019 0.7737345  0.82008538 0.80585485 0.81154706\n",
      " 0.77434438 0.78633869 0.79284407 0.78328929 0.77109169 0.74385038\n",
      " 0.71193332 0.68733482 0.67818662 0.65257166 0.64301687 0.65643423\n",
      " 0.67656028 0.67371417 0.65114861 0.65521447 0.66761537 0.67838992\n",
      " 0.69993901 0.63122586 0.63508843 0.64098394 0.64545639 0.64118723\n",
      " 0.63854442 0.63081927 0.62472047 0.6330555  0.64728603 0.6574507\n",
      " 0.66761537 0.66720878 0.64159382 0.62776987 0.63651149 0.63630819\n",
      " 0.62980281 0.62817646 0.63813783 0.65358813 0.63183574 0.57653995\n",
      " 0.57816629 0.57613336 0.61943484 0.57979264 0.57288067 0.62573694\n",
      " 0.63102257 0.6361049  0.62776987 0.6269567  0.63590161 0.62594023\n",
      " 0.6391543  0.62614353 0.62268754 0.61608613 0.60161382 0.58355576\n",
      " 0.56763202 0.55342585 0.54046369 0.52841282 0.51803792 0.50940192\n",
      " 0.50192308 0.49523467 0.48913261 0.48348233]\n",
      "13 day output [[0.47819522]]\n",
      "14 day input [0.72941655 0.73144948 0.74486684 0.76926205 0.75991055 0.74242732\n",
      " 0.73958122 0.74771295 0.75991055 0.7584875  0.76621264 0.75462492\n",
      " 0.76316324 0.79670665 0.80585485 0.7889815  0.78003659 0.73978451\n",
      " 0.73002643 0.73490547 0.74872942 0.75991055 0.75462492 0.75401504\n",
      " 0.76174019 0.7737345  0.82008538 0.80585485 0.81154706 0.77434438\n",
      " 0.78633869 0.79284407 0.78328929 0.77109169 0.74385038 0.71193332\n",
      " 0.68733482 0.67818662 0.65257166 0.64301687 0.65643423 0.67656028\n",
      " 0.67371417 0.65114861 0.65521447 0.66761537 0.67838992 0.69993901\n",
      " 0.63122586 0.63508843 0.64098394 0.64545639 0.64118723 0.63854442\n",
      " 0.63081927 0.62472047 0.6330555  0.64728603 0.6574507  0.66761537\n",
      " 0.66720878 0.64159382 0.62776987 0.63651149 0.63630819 0.62980281\n",
      " 0.62817646 0.63813783 0.65358813 0.63183574 0.57653995 0.57816629\n",
      " 0.57613336 0.61943484 0.57979264 0.57288067 0.62573694 0.63102257\n",
      " 0.6361049  0.62776987 0.6269567  0.63590161 0.62594023 0.6391543\n",
      " 0.62614353 0.62268754 0.61608613 0.60161382 0.58355576 0.56763202\n",
      " 0.55342585 0.54046369 0.52841282 0.51803792 0.50940192 0.50192308\n",
      " 0.49523467 0.48913261 0.48348233 0.47819522]\n",
      "14 day output [[0.47321886]]\n",
      "15 day input [0.73144948 0.74486684 0.76926205 0.75991055 0.74242732 0.73958122\n",
      " 0.74771295 0.75991055 0.7584875  0.76621264 0.75462492 0.76316324\n",
      " 0.79670665 0.80585485 0.7889815  0.78003659 0.73978451 0.73002643\n",
      " 0.73490547 0.74872942 0.75991055 0.75462492 0.75401504 0.76174019\n",
      " 0.7737345  0.82008538 0.80585485 0.81154706 0.77434438 0.78633869\n",
      " 0.79284407 0.78328929 0.77109169 0.74385038 0.71193332 0.68733482\n",
      " 0.67818662 0.65257166 0.64301687 0.65643423 0.67656028 0.67371417\n",
      " 0.65114861 0.65521447 0.66761537 0.67838992 0.69993901 0.63122586\n",
      " 0.63508843 0.64098394 0.64545639 0.64118723 0.63854442 0.63081927\n",
      " 0.62472047 0.6330555  0.64728603 0.6574507  0.66761537 0.66720878\n",
      " 0.64159382 0.62776987 0.63651149 0.63630819 0.62980281 0.62817646\n",
      " 0.63813783 0.65358813 0.63183574 0.57653995 0.57816629 0.57613336\n",
      " 0.61943484 0.57979264 0.57288067 0.62573694 0.63102257 0.6361049\n",
      " 0.62776987 0.6269567  0.63590161 0.62594023 0.6391543  0.62614353\n",
      " 0.62268754 0.61608613 0.60161382 0.58355576 0.56763202 0.55342585\n",
      " 0.54046369 0.52841282 0.51803792 0.50940192 0.50192308 0.49523467\n",
      " 0.48913261 0.48348233 0.47819522 0.47321886]\n",
      "15 day output [[0.46852398]]\n",
      "16 day input [0.74486684 0.76926205 0.75991055 0.74242732 0.73958122 0.74771295\n",
      " 0.75991055 0.7584875  0.76621264 0.75462492 0.76316324 0.79670665\n",
      " 0.80585485 0.7889815  0.78003659 0.73978451 0.73002643 0.73490547\n",
      " 0.74872942 0.75991055 0.75462492 0.75401504 0.76174019 0.7737345\n",
      " 0.82008538 0.80585485 0.81154706 0.77434438 0.78633869 0.79284407\n",
      " 0.78328929 0.77109169 0.74385038 0.71193332 0.68733482 0.67818662\n",
      " 0.65257166 0.64301687 0.65643423 0.67656028 0.67371417 0.65114861\n",
      " 0.65521447 0.66761537 0.67838992 0.69993901 0.63122586 0.63508843\n",
      " 0.64098394 0.64545639 0.64118723 0.63854442 0.63081927 0.62472047\n",
      " 0.6330555  0.64728603 0.6574507  0.66761537 0.66720878 0.64159382\n",
      " 0.62776987 0.63651149 0.63630819 0.62980281 0.62817646 0.63813783\n",
      " 0.65358813 0.63183574 0.57653995 0.57816629 0.57613336 0.61943484\n",
      " 0.57979264 0.57288067 0.62573694 0.63102257 0.6361049  0.62776987\n",
      " 0.6269567  0.63590161 0.62594023 0.6391543  0.62614353 0.62268754\n",
      " 0.61608613 0.60161382 0.58355576 0.56763202 0.55342585 0.54046369\n",
      " 0.52841282 0.51803792 0.50940192 0.50192308 0.49523467 0.48913261\n",
      " 0.48348233 0.47819522 0.47321886 0.46852398]\n",
      "16 day output [[0.4639893]]\n",
      "17 day input [0.76926205 0.75991055 0.74242732 0.73958122 0.74771295 0.75991055\n",
      " 0.7584875  0.76621264 0.75462492 0.76316324 0.79670665 0.80585485\n",
      " 0.7889815  0.78003659 0.73978451 0.73002643 0.73490547 0.74872942\n",
      " 0.75991055 0.75462492 0.75401504 0.76174019 0.7737345  0.82008538\n",
      " 0.80585485 0.81154706 0.77434438 0.78633869 0.79284407 0.78328929\n",
      " 0.77109169 0.74385038 0.71193332 0.68733482 0.67818662 0.65257166\n",
      " 0.64301687 0.65643423 0.67656028 0.67371417 0.65114861 0.65521447\n",
      " 0.66761537 0.67838992 0.69993901 0.63122586 0.63508843 0.64098394\n",
      " 0.64545639 0.64118723 0.63854442 0.63081927 0.62472047 0.6330555\n",
      " 0.64728603 0.6574507  0.66761537 0.66720878 0.64159382 0.62776987\n",
      " 0.63651149 0.63630819 0.62980281 0.62817646 0.63813783 0.65358813\n",
      " 0.63183574 0.57653995 0.57816629 0.57613336 0.61943484 0.57979264\n",
      " 0.57288067 0.62573694 0.63102257 0.6361049  0.62776987 0.6269567\n",
      " 0.63590161 0.62594023 0.6391543  0.62614353 0.62268754 0.61608613\n",
      " 0.60161382 0.58355576 0.56763202 0.55342585 0.54046369 0.52841282\n",
      " 0.51803792 0.50940192 0.50192308 0.49523467 0.48913261 0.48348233\n",
      " 0.47819522 0.47321886 0.46852398 0.46398929]\n",
      "17 day output [[0.4596332]]\n",
      "18 day input [0.75991055 0.74242732 0.73958122 0.74771295 0.75991055 0.7584875\n",
      " 0.76621264 0.75462492 0.76316324 0.79670665 0.80585485 0.7889815\n",
      " 0.78003659 0.73978451 0.73002643 0.73490547 0.74872942 0.75991055\n",
      " 0.75462492 0.75401504 0.76174019 0.7737345  0.82008538 0.80585485\n",
      " 0.81154706 0.77434438 0.78633869 0.79284407 0.78328929 0.77109169\n",
      " 0.74385038 0.71193332 0.68733482 0.67818662 0.65257166 0.64301687\n",
      " 0.65643423 0.67656028 0.67371417 0.65114861 0.65521447 0.66761537\n",
      " 0.67838992 0.69993901 0.63122586 0.63508843 0.64098394 0.64545639\n",
      " 0.64118723 0.63854442 0.63081927 0.62472047 0.6330555  0.64728603\n",
      " 0.6574507  0.66761537 0.66720878 0.64159382 0.62776987 0.63651149\n",
      " 0.63630819 0.62980281 0.62817646 0.63813783 0.65358813 0.63183574\n",
      " 0.57653995 0.57816629 0.57613336 0.61943484 0.57979264 0.57288067\n",
      " 0.62573694 0.63102257 0.6361049  0.62776987 0.6269567  0.63590161\n",
      " 0.62594023 0.6391543  0.62614353 0.62268754 0.61608613 0.60161382\n",
      " 0.58355576 0.56763202 0.55342585 0.54046369 0.52841282 0.51803792\n",
      " 0.50940192 0.50192308 0.49523467 0.48913261 0.48348233 0.47819522\n",
      " 0.47321886 0.46852398 0.46398929 0.4596332 ]\n",
      "18 day output [[0.45521837]]\n",
      "19 day input [0.74242732 0.73958122 0.74771295 0.75991055 0.7584875  0.76621264\n",
      " 0.75462492 0.76316324 0.79670665 0.80585485 0.7889815  0.78003659\n",
      " 0.73978451 0.73002643 0.73490547 0.74872942 0.75991055 0.75462492\n",
      " 0.75401504 0.76174019 0.7737345  0.82008538 0.80585485 0.81154706\n",
      " 0.77434438 0.78633869 0.79284407 0.78328929 0.77109169 0.74385038\n",
      " 0.71193332 0.68733482 0.67818662 0.65257166 0.64301687 0.65643423\n",
      " 0.67656028 0.67371417 0.65114861 0.65521447 0.66761537 0.67838992\n",
      " 0.69993901 0.63122586 0.63508843 0.64098394 0.64545639 0.64118723\n",
      " 0.63854442 0.63081927 0.62472047 0.6330555  0.64728603 0.6574507\n",
      " 0.66761537 0.66720878 0.64159382 0.62776987 0.63651149 0.63630819\n",
      " 0.62980281 0.62817646 0.63813783 0.65358813 0.63183574 0.57653995\n",
      " 0.57816629 0.57613336 0.61943484 0.57979264 0.57288067 0.62573694\n",
      " 0.63102257 0.6361049  0.62776987 0.6269567  0.63590161 0.62594023\n",
      " 0.6391543  0.62614353 0.62268754 0.61608613 0.60161382 0.58355576\n",
      " 0.56763202 0.55342585 0.54046369 0.52841282 0.51803792 0.50940192\n",
      " 0.50192308 0.49523467 0.48913261 0.48348233 0.47819522 0.47321886\n",
      " 0.46852398 0.46398929 0.4596332  0.45521837]\n"
     ]
    },
    {
     "name": "stdout",
     "output_type": "stream",
     "text": [
      "19 day output [[0.45108825]]\n",
      "20 day input [0.73958122 0.74771295 0.75991055 0.7584875  0.76621264 0.75462492\n",
      " 0.76316324 0.79670665 0.80585485 0.7889815  0.78003659 0.73978451\n",
      " 0.73002643 0.73490547 0.74872942 0.75991055 0.75462492 0.75401504\n",
      " 0.76174019 0.7737345  0.82008538 0.80585485 0.81154706 0.77434438\n",
      " 0.78633869 0.79284407 0.78328929 0.77109169 0.74385038 0.71193332\n",
      " 0.68733482 0.67818662 0.65257166 0.64301687 0.65643423 0.67656028\n",
      " 0.67371417 0.65114861 0.65521447 0.66761537 0.67838992 0.69993901\n",
      " 0.63122586 0.63508843 0.64098394 0.64545639 0.64118723 0.63854442\n",
      " 0.63081927 0.62472047 0.6330555  0.64728603 0.6574507  0.66761537\n",
      " 0.66720878 0.64159382 0.62776987 0.63651149 0.63630819 0.62980281\n",
      " 0.62817646 0.63813783 0.65358813 0.63183574 0.57653995 0.57816629\n",
      " 0.57613336 0.61943484 0.57979264 0.57288067 0.62573694 0.63102257\n",
      " 0.6361049  0.62776987 0.6269567  0.63590161 0.62594023 0.6391543\n",
      " 0.62614353 0.62268754 0.61608613 0.60161382 0.58355576 0.56763202\n",
      " 0.55342585 0.54046369 0.52841282 0.51803792 0.50940192 0.50192308\n",
      " 0.49523467 0.48913261 0.48348233 0.47819522 0.47321886 0.46852398\n",
      " 0.46398929 0.4596332  0.45521837 0.45108825]\n",
      "20 day output [[0.44717383]]\n",
      "21 day input [0.74771295 0.75991055 0.7584875  0.76621264 0.75462492 0.76316324\n",
      " 0.79670665 0.80585485 0.7889815  0.78003659 0.73978451 0.73002643\n",
      " 0.73490547 0.74872942 0.75991055 0.75462492 0.75401504 0.76174019\n",
      " 0.7737345  0.82008538 0.80585485 0.81154706 0.77434438 0.78633869\n",
      " 0.79284407 0.78328929 0.77109169 0.74385038 0.71193332 0.68733482\n",
      " 0.67818662 0.65257166 0.64301687 0.65643423 0.67656028 0.67371417\n",
      " 0.65114861 0.65521447 0.66761537 0.67838992 0.69993901 0.63122586\n",
      " 0.63508843 0.64098394 0.64545639 0.64118723 0.63854442 0.63081927\n",
      " 0.62472047 0.6330555  0.64728603 0.6574507  0.66761537 0.66720878\n",
      " 0.64159382 0.62776987 0.63651149 0.63630819 0.62980281 0.62817646\n",
      " 0.63813783 0.65358813 0.63183574 0.57653995 0.57816629 0.57613336\n",
      " 0.61943484 0.57979264 0.57288067 0.62573694 0.63102257 0.6361049\n",
      " 0.62776987 0.6269567  0.63590161 0.62594023 0.6391543  0.62614353\n",
      " 0.62268754 0.61608613 0.60161382 0.58355576 0.56763202 0.55342585\n",
      " 0.54046369 0.52841282 0.51803792 0.50940192 0.50192308 0.49523467\n",
      " 0.48913261 0.48348233 0.47819522 0.47321886 0.46852398 0.46398929\n",
      " 0.4596332  0.45521837 0.45108825 0.44717383]\n",
      "21 day output [[0.4434601]]\n",
      "22 day input [0.75991055 0.7584875  0.76621264 0.75462492 0.76316324 0.79670665\n",
      " 0.80585485 0.7889815  0.78003659 0.73978451 0.73002643 0.73490547\n",
      " 0.74872942 0.75991055 0.75462492 0.75401504 0.76174019 0.7737345\n",
      " 0.82008538 0.80585485 0.81154706 0.77434438 0.78633869 0.79284407\n",
      " 0.78328929 0.77109169 0.74385038 0.71193332 0.68733482 0.67818662\n",
      " 0.65257166 0.64301687 0.65643423 0.67656028 0.67371417 0.65114861\n",
      " 0.65521447 0.66761537 0.67838992 0.69993901 0.63122586 0.63508843\n",
      " 0.64098394 0.64545639 0.64118723 0.63854442 0.63081927 0.62472047\n",
      " 0.6330555  0.64728603 0.6574507  0.66761537 0.66720878 0.64159382\n",
      " 0.62776987 0.63651149 0.63630819 0.62980281 0.62817646 0.63813783\n",
      " 0.65358813 0.63183574 0.57653995 0.57816629 0.57613336 0.61943484\n",
      " 0.57979264 0.57288067 0.62573694 0.63102257 0.6361049  0.62776987\n",
      " 0.6269567  0.63590161 0.62594023 0.6391543  0.62614353 0.62268754\n",
      " 0.61608613 0.60161382 0.58355576 0.56763202 0.55342585 0.54046369\n",
      " 0.52841282 0.51803792 0.50940192 0.50192308 0.49523467 0.48913261\n",
      " 0.48348233 0.47819522 0.47321886 0.46852398 0.46398929 0.4596332\n",
      " 0.45521837 0.45108825 0.44717383 0.44346011]\n",
      "22 day output [[0.43994614]]\n",
      "23 day input [0.7584875  0.76621264 0.75462492 0.76316324 0.79670665 0.80585485\n",
      " 0.7889815  0.78003659 0.73978451 0.73002643 0.73490547 0.74872942\n",
      " 0.75991055 0.75462492 0.75401504 0.76174019 0.7737345  0.82008538\n",
      " 0.80585485 0.81154706 0.77434438 0.78633869 0.79284407 0.78328929\n",
      " 0.77109169 0.74385038 0.71193332 0.68733482 0.67818662 0.65257166\n",
      " 0.64301687 0.65643423 0.67656028 0.67371417 0.65114861 0.65521447\n",
      " 0.66761537 0.67838992 0.69993901 0.63122586 0.63508843 0.64098394\n",
      " 0.64545639 0.64118723 0.63854442 0.63081927 0.62472047 0.6330555\n",
      " 0.64728603 0.6574507  0.66761537 0.66720878 0.64159382 0.62776987\n",
      " 0.63651149 0.63630819 0.62980281 0.62817646 0.63813783 0.65358813\n",
      " 0.63183574 0.57653995 0.57816629 0.57613336 0.61943484 0.57979264\n",
      " 0.57288067 0.62573694 0.63102257 0.6361049  0.62776987 0.6269567\n",
      " 0.63590161 0.62594023 0.6391543  0.62614353 0.62268754 0.61608613\n",
      " 0.60161382 0.58355576 0.56763202 0.55342585 0.54046369 0.52841282\n",
      " 0.51803792 0.50940192 0.50192308 0.49523467 0.48913261 0.48348233\n",
      " 0.47819522 0.47321886 0.46852398 0.46398929 0.4596332  0.45521837\n",
      " 0.45108825 0.44717383 0.44346011 0.43994614]\n",
      "23 day output [[0.43662593]]\n",
      "24 day input [0.76621264 0.75462492 0.76316324 0.79670665 0.80585485 0.7889815\n",
      " 0.78003659 0.73978451 0.73002643 0.73490547 0.74872942 0.75991055\n",
      " 0.75462492 0.75401504 0.76174019 0.7737345  0.82008538 0.80585485\n",
      " 0.81154706 0.77434438 0.78633869 0.79284407 0.78328929 0.77109169\n",
      " 0.74385038 0.71193332 0.68733482 0.67818662 0.65257166 0.64301687\n",
      " 0.65643423 0.67656028 0.67371417 0.65114861 0.65521447 0.66761537\n",
      " 0.67838992 0.69993901 0.63122586 0.63508843 0.64098394 0.64545639\n",
      " 0.64118723 0.63854442 0.63081927 0.62472047 0.6330555  0.64728603\n",
      " 0.6574507  0.66761537 0.66720878 0.64159382 0.62776987 0.63651149\n",
      " 0.63630819 0.62980281 0.62817646 0.63813783 0.65358813 0.63183574\n",
      " 0.57653995 0.57816629 0.57613336 0.61943484 0.57979264 0.57288067\n",
      " 0.62573694 0.63102257 0.6361049  0.62776987 0.6269567  0.63590161\n",
      " 0.62594023 0.6391543  0.62614353 0.62268754 0.61608613 0.60161382\n",
      " 0.58355576 0.56763202 0.55342585 0.54046369 0.52841282 0.51803792\n",
      " 0.50940192 0.50192308 0.49523467 0.48913261 0.48348233 0.47819522\n",
      " 0.47321886 0.46852398 0.46398929 0.4596332  0.45521837 0.45108825\n",
      " 0.44717383 0.44346011 0.43994614 0.43662593]\n",
      "24 day output [[0.4334899]]\n",
      "25 day input [0.75462492 0.76316324 0.79670665 0.80585485 0.7889815  0.78003659\n",
      " 0.73978451 0.73002643 0.73490547 0.74872942 0.75991055 0.75462492\n",
      " 0.75401504 0.76174019 0.7737345  0.82008538 0.80585485 0.81154706\n",
      " 0.77434438 0.78633869 0.79284407 0.78328929 0.77109169 0.74385038\n",
      " 0.71193332 0.68733482 0.67818662 0.65257166 0.64301687 0.65643423\n",
      " 0.67656028 0.67371417 0.65114861 0.65521447 0.66761537 0.67838992\n",
      " 0.69993901 0.63122586 0.63508843 0.64098394 0.64545639 0.64118723\n",
      " 0.63854442 0.63081927 0.62472047 0.6330555  0.64728603 0.6574507\n",
      " 0.66761537 0.66720878 0.64159382 0.62776987 0.63651149 0.63630819\n",
      " 0.62980281 0.62817646 0.63813783 0.65358813 0.63183574 0.57653995\n",
      " 0.57816629 0.57613336 0.61943484 0.57979264 0.57288067 0.62573694\n",
      " 0.63102257 0.6361049  0.62776987 0.6269567  0.63590161 0.62594023\n",
      " 0.6391543  0.62614353 0.62268754 0.61608613 0.60161382 0.58355576\n",
      " 0.56763202 0.55342585 0.54046369 0.52841282 0.51803792 0.50940192\n",
      " 0.50192308 0.49523467 0.48913261 0.48348233 0.47819522 0.47321886\n",
      " 0.46852398 0.46398929 0.4596332  0.45521837 0.45108825 0.44717383\n",
      " 0.44346011 0.43994614 0.43662593 0.43348989]\n",
      "25 day output [[0.43052667]]\n",
      "26 day input [0.76316324 0.79670665 0.80585485 0.7889815  0.78003659 0.73978451\n",
      " 0.73002643 0.73490547 0.74872942 0.75991055 0.75462492 0.75401504\n",
      " 0.76174019 0.7737345  0.82008538 0.80585485 0.81154706 0.77434438\n",
      " 0.78633869 0.79284407 0.78328929 0.77109169 0.74385038 0.71193332\n",
      " 0.68733482 0.67818662 0.65257166 0.64301687 0.65643423 0.67656028\n",
      " 0.67371417 0.65114861 0.65521447 0.66761537 0.67838992 0.69993901\n",
      " 0.63122586 0.63508843 0.64098394 0.64545639 0.64118723 0.63854442\n",
      " 0.63081927 0.62472047 0.6330555  0.64728603 0.6574507  0.66761537\n",
      " 0.66720878 0.64159382 0.62776987 0.63651149 0.63630819 0.62980281\n",
      " 0.62817646 0.63813783 0.65358813 0.63183574 0.57653995 0.57816629\n",
      " 0.57613336 0.61943484 0.57979264 0.57288067 0.62573694 0.63102257\n",
      " 0.6361049  0.62776987 0.6269567  0.63590161 0.62594023 0.6391543\n",
      " 0.62614353 0.62268754 0.61608613 0.60161382 0.58355576 0.56763202\n",
      " 0.55342585 0.54046369 0.52841282 0.51803792 0.50940192 0.50192308\n",
      " 0.49523467 0.48913261 0.48348233 0.47819522 0.47321886 0.46852398\n",
      " 0.46398929 0.4596332  0.45521837 0.45108825 0.44717383 0.44346011\n",
      " 0.43994614 0.43662593 0.43348989 0.43052667]\n",
      "26 day output [[0.42772374]]\n",
      "27 day input [0.79670665 0.80585485 0.7889815  0.78003659 0.73978451 0.73002643\n",
      " 0.73490547 0.74872942 0.75991055 0.75462492 0.75401504 0.76174019\n",
      " 0.7737345  0.82008538 0.80585485 0.81154706 0.77434438 0.78633869\n",
      " 0.79284407 0.78328929 0.77109169 0.74385038 0.71193332 0.68733482\n",
      " 0.67818662 0.65257166 0.64301687 0.65643423 0.67656028 0.67371417\n",
      " 0.65114861 0.65521447 0.66761537 0.67838992 0.69993901 0.63122586\n",
      " 0.63508843 0.64098394 0.64545639 0.64118723 0.63854442 0.63081927\n",
      " 0.62472047 0.6330555  0.64728603 0.6574507  0.66761537 0.66720878\n",
      " 0.64159382 0.62776987 0.63651149 0.63630819 0.62980281 0.62817646\n",
      " 0.63813783 0.65358813 0.63183574 0.57653995 0.57816629 0.57613336\n",
      " 0.61943484 0.57979264 0.57288067 0.62573694 0.63102257 0.6361049\n",
      " 0.62776987 0.6269567  0.63590161 0.62594023 0.6391543  0.62614353\n",
      " 0.62268754 0.61608613 0.60161382 0.58355576 0.56763202 0.55342585\n",
      " 0.54046369 0.52841282 0.51803792 0.50940192 0.50192308 0.49523467\n",
      " 0.48913261 0.48348233 0.47819522 0.47321886 0.46852398 0.46398929\n",
      " 0.4596332  0.45521837 0.45108825 0.44717383 0.44346011 0.43994614\n",
      " 0.43662593 0.43348989 0.43052667 0.42772374]\n",
      "27 day output [[0.4250682]]\n",
      "[[0.6160861253738403], [0.6016138195991516], [0.5835557579994202], [0.5676320195198059], [0.5534258484840393], [0.5404636859893799], [0.5284128189086914], [0.5180379152297974], [0.5094019174575806], [0.5019230842590332], [0.4952346682548523], [0.4891326129436493], [0.48348233103752136], [0.4781952202320099], [0.4732188582420349], [0.4685239791870117], [0.4639892876148224], [0.4596332013607025], [0.4552183747291565], [0.4510882496833801], [0.4471738338470459], [0.4434601068496704], [0.43994614481925964], [0.4366259276866913], [0.4334898889064789], [0.4305266737937927], [0.4277237355709076], [0.425068199634552]]\n"
     ]
    }
   ],
   "source": [
    "temp_input = list(x_input)\n",
    "temp_input = temp_input[0].tolist()\n",
    "\n",
    "lst_output = []\n",
    "n_steps = 100\n",
    "nextNumberOfDays = 28\n",
    "i = 0\n",
    "\n",
    "while(i < 28):\n",
    "\n",
    "    if(len(temp_input) > 100):\n",
    "        x_input = np.array(temp_input[1:])\n",
    "        print(\"{} day input {}\".format(i,x_input))\n",
    "        x_input = x_input.reshape(1,-1)\n",
    "        x_input = x_input.reshape((1, n_steps, 1))\n",
    "        yhat = lstm.predict(x_input, verbose=0)\n",
    "        print(\"{} day output {}\".format(i,yhat))\n",
    "        temp_input.extend(yhat[0].tolist())\n",
    "        temp_input = temp_input[1:]\n",
    "        lst_output.extend(yhat.tolist())\n",
    "        i = i+1\n",
    "    \n",
    "    else:\n",
    "        x_input = x_input.reshape((1, n_steps,1))\n",
    "        yhat = lstm.predict(x_input, verbose=0)\n",
    "        print(yhat[0])\n",
    "        temp_input.extend(yhat[0].tolist())\n",
    "        print(len(temp_input))\n",
    "        lst_output.extend(yhat.tolist())\n",
    "        i=i+1\n",
    "    \n",
    "\n",
    "print(lst_output)"
   ]
  },
  {
   "cell_type": "code",
   "execution_count": 34,
   "id": "7244675d",
   "metadata": {},
   "outputs": [],
   "source": [
    "day_new = np.arange(1,101)\n",
    "day_pred = np.arange(101,129)"
   ]
  },
  {
   "cell_type": "code",
   "execution_count": 35,
   "id": "4ddff678",
   "metadata": {},
   "outputs": [
    {
     "name": "stdout",
     "output_type": "stream",
     "text": [
      "Day-new shape: (100,) \n",
      "Day-pred shape: (28,)\n"
     ]
    }
   ],
   "source": [
    "print(\"Day-new shape:\",day_new.shape,\"\\nDay-pred shape:\",day_pred.shape)"
   ]
  },
  {
   "cell_type": "code",
   "execution_count": 36,
   "id": "fbd9b52d",
   "metadata": {},
   "outputs": [
    {
     "data": {
      "text/plain": [
       "2035"
      ]
     },
     "execution_count": 36,
     "metadata": {},
     "output_type": "execute_result"
    }
   ],
   "source": [
    "ds_new = ds_high.tolist()\n",
    "ds_new.extend(lst_output)\n",
    "\n",
    "len(ds_high)"
   ]
  },
  {
   "cell_type": "code",
   "execution_count": 37,
   "id": "8617baae",
   "metadata": {},
   "outputs": [
    {
     "data": {
      "text/plain": [
       "2035"
      ]
     },
     "execution_count": 37,
     "metadata": {},
     "output_type": "execute_result"
    }
   ],
   "source": [
    "ds_new = ds_high.tolist()\n",
    "ds_new.extend(lst_output)\n",
    "\n",
    "len(ds_high)"
   ]
  },
  {
   "cell_type": "code",
   "execution_count": 41,
   "id": "75134a20",
   "metadata": {},
   "outputs": [
    {
     "data": {
      "image/png": "[encoded data removed]",
      "text/plain": [
       "<Figure size 432x288 with 1 Axes>"
      ]
     },
     "metadata": {
      "needs_background": "light"
     },
     "output_type": "display_data"
    }
   ],
   "source": [
    "plt.plot(day_new,sc.inverse_transform(ds_high[1935:]),'b')\n",
    "plt.plot(day_pred,sc.inverse_transform(lst_output),'r')\n",
    "plt.show()"
   ]
  },
  {
   "cell_type": "code",
   "execution_count": 43,
   "id": "78be3e7f",
   "metadata": {},
   "outputs": [
    {
     "data": {
      "image/png": "[encoded data removed]",
      "text/plain": [
       "<Figure size 432x288 with 1 Axes>"
      ]
     },
     "metadata": {
      "needs_background": "light"
     },
     "output_type": "display_data"
    }
   ],
   "source": [
    "ds_new = ds_high.tolist()\n",
    "ds_new.extend(lst_output)\n",
    "plt.plot(ds_new[2000:],'r')\n",
    "plt.show()"
   ]
  },
  {
   "cell_type": "code",
   "execution_count": 44,
   "id": "b7ac9a2d",
   "metadata": {},
   "outputs": [],
   "source": [
    "ds_new = sc.inverse_transform(ds_new).tolist()"
   ]
  },
  {
   "cell_type": "code",
   "execution_count": 46,
   "id": "8429c742",
   "metadata": {},
   "outputs": [
    {
     "data": {
      "image/png": "[encoded data removed]",
      "text/plain": [
       "<Figure size 432x288 with 1 Axes>"
      ]
     },
     "metadata": {
      "needs_background": "light"
     },
     "output_type": "display_data"
    }
   ],
   "source": [
    "plt.plot(ds_new)\n",
    "plt.show()"
   ]
  },
  {
   "cell_type": "markdown",
   "id": "916076e7",
   "metadata": {},
   "source": [
    "### Thank You!!!"
   ]
  }
 ],
 "metadata": {
  "kernelspec": {
   "display_name": "Python 3 (ipykernel)",
   "language": "python",
   "name": "python3"
  },
  "language_info": {
   "codemirror_mode": {
    "name": "ipython",
    "version": 3
   },
   "file_extension": ".py",
   "mimetype": "text/x-python",
   "name": "python",
   "nbconvert_exporter": "python",
   "pygments_lexer": "ipython3",
   "version": "3.9.7"
  }
 },
 "nbformat": 4,
 "nbformat_minor": 5
}
